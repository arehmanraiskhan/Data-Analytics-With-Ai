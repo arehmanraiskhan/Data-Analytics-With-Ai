{
 "cells": [
  {
   "cell_type": "markdown",
   "id": "7357ec9c-aedb-452b-81f8-d510ac66df07",
   "metadata": {},
   "source": [
    "# Assignment 5"
   ]
  },
  {
   "cell_type": "markdown",
   "id": "465d3e51-a5d8-4abd-a4f4-342ad5348aca",
   "metadata": {},
   "source": [
    "### 1. Write a Python function called add_numbers that takes two numbers as arguments and returns their sum. Then, test the function by calling it with two numbers of your choice."
   ]
  },
  {
   "cell_type": "code",
   "execution_count": 3,
   "id": "06033d52-6b01-43cd-b727-39ea3be6d900",
   "metadata": {},
   "outputs": [
    {
     "data": {
      "text/plain": [
       "9"
      ]
     },
     "execution_count": 3,
     "metadata": {},
     "output_type": "execute_result"
    }
   ],
   "source": [
    "def add(no1,no2):\n",
    "    return no1+no2\n",
    "#calling function\n",
    "add(3,6)"
   ]
  },
  {
   "cell_type": "markdown",
   "id": "5a48c5d2-39d2-46c9-994d-fe85929a922d",
   "metadata": {},
   "source": [
    "### 2. Write a Python function count_vowels that accepts a string and returns the number of vowels (a, e, i, o, u) in that string.\n",
    "### - Example: 'Orange'\n",
    "### - Output: 3 vowels"
   ]
  },
  {
   "cell_type": "code",
   "execution_count": 8,
   "id": "93f97a2c-fdb7-4d51-a7cf-aa95b914be05",
   "metadata": {},
   "outputs": [
    {
     "data": {
      "text/plain": [
       "'Total Vowels in Data Analytics: 5'"
      ]
     },
     "execution_count": 8,
     "metadata": {},
     "output_type": "execute_result"
    }
   ],
   "source": [
    "def count_Vowels(txt):\n",
    "    vowels=[\"a\",\"e\",\"i\",\"o\",\"u\"]\n",
    "    count=0\n",
    "    for i in txt.lower():\n",
    "        if i in vowels:\n",
    "            count+=1\n",
    "    return f\"Total Vowels in {txt}: {count}\"\n",
    "count_Vowels(\"Data Analytics\")"
   ]
  },
  {
   "cell_type": "markdown",
   "id": "dd8159f4-1414-4960-8a82-e974f27e8b4f",
   "metadata": {},
   "source": [
    "### 3. Create a Python function called currency_converter() that takes two arguments:\n",
    "### amount: The amount of money to be converted (in USD).\n",
    "### exchange_rate (default is 280): The conversion rate from USD to another currency (e.g., PKR). You can assume the default rate is 1 USD = 280 PKR.\n",
    "### The function should return a message showing how much the given amount is worth in the target currency (PKR)."
   ]
  },
  {
   "cell_type": "code",
   "execution_count": 15,
   "id": "5ed2e54c-0271-4b7e-bd9f-d8f75dabf60c",
   "metadata": {},
   "outputs": [
    {
     "data": {
      "text/plain": [
       "'PKR 3 = $840'"
      ]
     },
     "execution_count": 15,
     "metadata": {},
     "output_type": "execute_result"
    }
   ],
   "source": [
    "def currency_Converter(amount,exchangerate):\n",
    "    return f\"PKR {amount} = ${amount*exchangerate}\"\n",
    "currency_Converter(3,280)"
   ]
  },
  {
   "cell_type": "markdown",
   "id": "74d46302-58bd-49c6-98d6-18befc92573c",
   "metadata": {},
   "source": [
    "### 4. Write a Python function display_student_info that accepts the following details about a student:\n",
    "### name (Keyword argument): The name of the student.\n",
    "### age (Keyword argument): The age of the student.\n",
    "### grade (Keyword argument): The grade the student is in.\n",
    "### school (Keyword argument): The name of the school the student attends."
   ]
  },
  {
   "cell_type": "code",
   "execution_count": 11,
   "id": "0025e33c-06b7-4515-9296-c2578189081f",
   "metadata": {},
   "outputs": [
    {
     "name": "stdout",
     "output_type": "stream",
     "text": [
      "Name:Usman\n",
      "Age:12\n",
      "Grade:7\n",
      "School:ABC School\n"
     ]
    }
   ],
   "source": [
    "def display_Studentinfo(name,age,grade,school):\n",
    "    print(f\"Name:{name}\")\n",
    "    print(f\"Age:{age}\")\n",
    "    print(f\"Grade:{grade}\")\n",
    "    print(f\"School:{school}\")\n",
    "\n",
    "display_Studentinfo(age=12,grade=7,school=\"ABC School\",name=\"Usman\")"
   ]
  },
  {
   "cell_type": "markdown",
   "id": "a7ca5874-05a3-4aa8-822b-a5e7da8e9d8a",
   "metadata": {},
   "source": [
    "### 5. Write a Python function calculate_price that accepts two positional arguments:\n",
    "### price: The price of a single item.\n",
    "### quantity: The number of items bought.\n",
    "### The function should return the total price by multiplying price and quantity."
   ]
  },
  {
   "cell_type": "code",
   "execution_count": 20,
   "id": "3d70ec39-b9a7-42d8-952a-e1c3da6eb1cd",
   "metadata": {},
   "outputs": [
    {
     "data": {
      "text/plain": [
       "5200"
      ]
     },
     "execution_count": 20,
     "metadata": {},
     "output_type": "execute_result"
    }
   ],
   "source": [
    "def calculate_Price(price,quantity):\n",
    "    return price*quantity\n",
    "\n",
    "calculate_Price(1300,4)"
   ]
  },
  {
   "cell_type": "markdown",
   "id": "c52a9556-6503-44c1-a34a-7e7310ca26af",
   "metadata": {},
   "source": [
    "### 6. Write a Python function display_prices that takes a product name and an arbitrary number of keyword arguments representing product prices. The function should display each product and its price.\n",
    "### Product: Laptop\n",
    "\n",
    "### Amazon: $800\n",
    "\n",
    "### eBay: $750\n",
    "\n",
    "### Walmart: $780"
   ]
  },
  {
   "cell_type": "code",
   "execution_count": 23,
   "id": "69a18420-bcef-4232-95d1-5a185af11ed0",
   "metadata": {},
   "outputs": [
    {
     "name": "stdout",
     "output_type": "stream",
     "text": [
      "Laptop:$2000\n",
      "Amazon:$8000\n",
      "eBay:$750\n",
      "Walmart:$780\n"
     ]
    }
   ],
   "source": [
    "def display_prices(**kwargs):\n",
    "    for prod_name,prod_prices in kwargs.items():\n",
    "        print(f\"{prod_name}:{prod_prices}\")\n",
    "display_prices(Laptop=\"$2000\",Amazon=\"$8000\",eBay=\"$750\",Walmart=\"$780\")"
   ]
  },
  {
   "cell_type": "markdown",
   "id": "7942d9e8-3f2e-477e-b897-833790c05568",
   "metadata": {},
   "source": [
    "### 7.Write a Python function find_max that takes any number of numerical arguments and returns the maximum number."
   ]
  },
  {
   "cell_type": "code",
   "execution_count": 26,
   "id": "f58375c4-5da6-4d26-af91-811efb8d3d9e",
   "metadata": {},
   "outputs": [
    {
     "data": {
      "text/plain": [
       "802"
      ]
     },
     "execution_count": 26,
     "metadata": {},
     "output_type": "execute_result"
    }
   ],
   "source": [
    "def find_Maxno(*args):\n",
    "    maxno=-float('inf')\n",
    "    for i in args:\n",
    "        if i>maxno:\n",
    "            maxno=i\n",
    "    return maxno\n",
    "find_Maxno(3,4,7,9,10,802,44,100,9)\n"
   ]
  },
  {
   "cell_type": "markdown",
   "id": "f4021c4c-60a3-4323-8bfa-e388b2f1362a",
   "metadata": {},
   "source": [
    "### 8. Write a Python function display_info that takes:\n",
    "### Positional arguments for the name and age of a person.\n",
    "### Keyword arguments for other personal details like address, phone number, and email.\n",
    "### Example Output:\n",
    "\n",
    "### Name: Alice\n",
    "### Age: 30\n",
    "### Other Details:\n",
    "### address: 123 Main St\n",
    "### phone: 123-456-7890\n",
    "### email: alice@example.com"
   ]
  },
  {
   "cell_type": "code",
   "execution_count": 31,
   "id": "af04e83c-0b99-41c6-a700-e33e7827c95b",
   "metadata": {},
   "outputs": [
    {
     "name": "stdout",
     "output_type": "stream",
     "text": [
      "Name:Alice\n",
      "Age:30\n",
      "Other Details:\n",
      "address:123 Main St\n",
      "phone:123-456-789\n",
      "email:Alice@example.com\n"
     ]
    }
   ],
   "source": [
    "def displayinfo(name,age,**kwargs):\n",
    "    print(f\"Name:{name}\")\n",
    "    print(f\"Age:{age}\")\n",
    "    print(f\"Other Details:\")\n",
    "    for key,val in kwargs.items():\n",
    "        print(f\"{key}:{val}\")\n",
    "\n",
    "displayinfo(\"Alice\",30,address=\"123 Main St\",phone=\"123-456-789\",email=\"Alice@example.com\")    "
   ]
  },
  {
   "cell_type": "markdown",
   "id": "799d2c2a-046b-4da6-9826-e6e3d15bea0a",
   "metadata": {},
   "source": [
    "### 9. Write a Python function calculate_rectangle that accepts the length and width of a rectangle as arguments. Inside this function, create two nested functions:\n",
    "### calculate_area: This function should calculate the area of the rectangle.\n",
    "### calculate_perimeter: This function should calculate the perimeter of the rectangle.\n",
    "### The main function should return both the area and the perimeter of the rectangle."
   ]
  },
  {
   "cell_type": "code",
   "execution_count": 35,
   "id": "ddb052ce-3c6c-45b6-b2cb-8f95a49f19bd",
   "metadata": {},
   "outputs": [
    {
     "name": "stdout",
     "output_type": "stream",
     "text": [
      "Area : 45 \n",
      "Perimter:28\n"
     ]
    }
   ],
   "source": [
    "def calculate_rectangle(length,width):\n",
    "    #Nested Function\n",
    "    def calculate_area():\n",
    "        area=length*width\n",
    "        return area\n",
    "    #Nested Function\n",
    "    def calculate_parimeter():\n",
    "        perimeter=2*(length+width)\n",
    "        return perimeter\n",
    "    return calculate_area(),calculate_parimeter()\n",
    "#Function Calling\n",
    "Area,Parameter=calculate_rectangle(5,9)\n",
    "print(f\"Area : {Area} \\nPerimter:{Parameter}\")"
   ]
  },
  {
   "cell_type": "markdown",
   "id": "75aa4870-a455-4784-8927-746d113b0018",
   "metadata": {},
   "source": [
    "### 10. products = [ {\"name\": \"Laptop\", \"price\": 1200, \"in_stock\": True, \"discount\": 0.1}, {\"name\": \"Smartphone\", \"price\": 800, \"in_stock\": False, \"discount\": 0.05}, {\"name\": \"Headphones\", \"price\": 150, \"in_stock\": True, \"discount\": 0.2}, {\"name\": \"Smartwatch\", \"price\": 300, \"in_stock\": True, \"discount\": 0}, {\"name\": \"Keyboard\", \"price\": 100, \"in_stock\": True, \"discount\": 0.15} ]\n",
    "\n",
    "### Get names of in-stock products:\n",
    "\n",
    "### Use list comprehension to generate a list of names for the products that are in stock.\n",
    "\n",
    "### Calculate final prices for in-stock products after discount:\n",
    "\n",
    "### For products that have a discount, calculate the final price by applying the discount.\n",
    "\n",
    "### For products with no discount, keep the original price.\n",
    "\n",
    "Generate a list of tuples with the product name and its final price.\n",
    "\n",
    "Example Output:\n",
    "\n",
    "In-stock product names: ['Laptop', 'Headphones', 'Smartwatch', 'Keyboard']\n",
    "Discounted prices: [('Laptop', 1080.0), ('Headphones', 120.0), ('Smartwatch', 300), ('Keyboard', 85.0)]"
   ]
  }
 ],
 "metadata": {
  "kernelspec": {
   "display_name": "Python 3 (ipykernel)",
   "language": "python",
   "name": "python3"
  },
  "language_info": {
   "codemirror_mode": {
    "name": "ipython",
    "version": 3
   },
   "file_extension": ".py",
   "mimetype": "text/x-python",
   "name": "python",
   "nbconvert_exporter": "python",
   "pygments_lexer": "ipython3",
   "version": "3.12.7"
  }
 },
 "nbformat": 4,
 "nbformat_minor": 5
}
