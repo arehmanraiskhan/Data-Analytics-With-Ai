{
 "cells": [
  {
   "cell_type": "markdown",
   "id": "4e220828-ecff-4988-bac9-0b75db47b53e",
   "metadata": {},
   "source": [
    "# Assignment 1"
   ]
  },
  {
   "cell_type": "code",
   "execution_count": 2,
   "id": "27550537-999a-4e9c-b9cf-e466cfe57e07",
   "metadata": {},
   "outputs": [],
   "source": [
    "salaries = ['20k', '40k', '50k', '60k', '35k', '89k','40k']"
   ]
  },
  {
   "cell_type": "markdown",
   "id": "4bd71176-48b3-4804-bce1-9ae559eb4a13",
   "metadata": {},
   "source": [
    "### 01. Length of the salaries"
   ]
  },
  {
   "cell_type": "code",
   "execution_count": 4,
   "id": "b1f26a64-2d9b-493e-a992-8099b4c0abf6",
   "metadata": {},
   "outputs": [
    {
     "data": {
      "text/plain": [
       "7"
      ]
     },
     "execution_count": 4,
     "metadata": {},
     "output_type": "execute_result"
    }
   ],
   "source": [
    "len(salaries)"
   ]
  },
  {
   "cell_type": "markdown",
   "id": "e1f07be5-ec6f-444c-8ab5-f6fc8aaed924",
   "metadata": {},
   "source": [
    "### 02. Retrieve the third salary by using index"
   ]
  },
  {
   "cell_type": "code",
   "execution_count": 6,
   "id": "5e60da7f-c710-4fba-9966-e42f7edb3c6b",
   "metadata": {},
   "outputs": [
    {
     "data": {
      "text/plain": [
       "'50k'"
      ]
     },
     "execution_count": 6,
     "metadata": {},
     "output_type": "execute_result"
    }
   ],
   "source": [
    "salaries[2]"
   ]
  },
  {
   "cell_type": "markdown",
   "id": "a93bf6c9-3f50-47c3-90ea-989103b0e6e8",
   "metadata": {},
   "source": [
    "### 03. Extract the last salary by using a negative index\n"
   ]
  },
  {
   "cell_type": "code",
   "execution_count": 8,
   "id": "c0263da8-34b8-44e2-9a27-c687a1d7a3c7",
   "metadata": {},
   "outputs": [
    {
     "data": {
      "text/plain": [
       "'40k'"
      ]
     },
     "execution_count": 8,
     "metadata": {},
     "output_type": "execute_result"
    }
   ],
   "source": [
    "salaries[-1]"
   ]
  },
  {
   "cell_type": "markdown",
   "id": "2567337a-991b-4b8f-952d-2eeee7f87158",
   "metadata": {},
   "source": [
    "### 04. Slice the salaries list to get only the middle three salaries\n"
   ]
  },
  {
   "cell_type": "code",
   "execution_count": 10,
   "id": "bd37d3b3-c61f-4ba3-82bc-0e5e8e3e4226",
   "metadata": {},
   "outputs": [
    {
     "data": {
      "text/plain": [
       "['50k', '60k', '35k']"
      ]
     },
     "execution_count": 10,
     "metadata": {},
     "output_type": "execute_result"
    }
   ],
   "source": [
    "salaries[2:5]"
   ]
  },
  {
   "cell_type": "markdown",
   "id": "b711b661-1a11-4b95-94f9-c63615014e34",
   "metadata": {},
   "source": [
    "### 05. Add a new salary to the list, ‘100k’ by using append() method"
   ]
  },
  {
   "cell_type": "code",
   "execution_count": 12,
   "id": "e9103e66-916c-4213-8989-a1098b84f319",
   "metadata": {},
   "outputs": [
    {
     "name": "stdout",
     "output_type": "stream",
     "text": [
      "['20k', '40k', '50k', '60k', '35k', '89k', '40k', '100k']\n"
     ]
    }
   ],
   "source": [
    "salaries.append('100k')\n",
    "\n",
    "print(salaries)"
   ]
  },
  {
   "cell_type": "markdown",
   "id": "a0668416-9afa-4524-9da6-490ba7f11f3b",
   "metadata": {},
   "source": [
    "### 05. Add a new salary to the list, ‘120k’ without method"
   ]
  },
  {
   "cell_type": "code",
   "execution_count": 14,
   "id": "b887399f-762b-4681-9f47-0ff005b76f1c",
   "metadata": {},
   "outputs": [
    {
     "name": "stdout",
     "output_type": "stream",
     "text": [
      "['20k', '40k', '50k', '60k', '35k', '89k', '40k', '100k', '120k']\n"
     ]
    }
   ],
   "source": [
    "salaries[len(salaries):] = ['120k']\n",
    "\n",
    "print(salaries)"
   ]
  },
  {
   "cell_type": "markdown",
   "id": "b16c43dc-17e2-40b7-ad3a-1950b819c276",
   "metadata": {},
   "source": [
    "### 06. Replace the third salary in the list with '55k' and print the updated list"
   ]
  },
  {
   "cell_type": "code",
   "execution_count": 16,
   "id": "2befe69f-b69b-4a6a-b7de-79fc2f5f4174",
   "metadata": {},
   "outputs": [
    {
     "name": "stdout",
     "output_type": "stream",
     "text": [
      "['20k', '40k', '55k', '60k', '35k', '89k', '40k', '100k', '120k']\n"
     ]
    }
   ],
   "source": [
    "salaries[2] = '55k'\n",
    "\n",
    "print(salaries)"
   ]
  },
  {
   "cell_type": "markdown",
   "id": "42c0f264-36ab-4805-b734-fb871817b9ae",
   "metadata": {},
   "source": [
    "### 07. Count how many times '40k' appears in the list"
   ]
  },
  {
   "cell_type": "code",
   "execution_count": 18,
   "id": "d3632664-ad0f-45c7-b556-60d0a7baa293",
   "metadata": {},
   "outputs": [
    {
     "data": {
      "text/plain": [
       "2"
      ]
     },
     "execution_count": 18,
     "metadata": {},
     "output_type": "execute_result"
    }
   ],
   "source": [
    "salaries.count('40k')"
   ]
  },
  {
   "cell_type": "markdown",
   "id": "45ca898c-8065-428e-b29a-a836972fea87",
   "metadata": {},
   "source": [
    "### 08. Insert a new salary at the second position"
   ]
  },
  {
   "cell_type": "code",
   "execution_count": 20,
   "id": "7a5afd0d-432d-404a-a5c2-d147682f43af",
   "metadata": {},
   "outputs": [
    {
     "name": "stdout",
     "output_type": "stream",
     "text": [
      "['20k', '45k', '40k', '55k', '60k', '35k', '89k', '40k', '100k', '120k']\n"
     ]
    }
   ],
   "source": [
    "salaries.insert(1, '45k')\n",
    "\n",
    "print(salaries)"
   ]
  },
  {
   "cell_type": "markdown",
   "id": "62732a85-287e-4d89-8931-663bac45762e",
   "metadata": {},
   "source": [
    "### 09. Reverse the order of the salaries list with method."
   ]
  },
  {
   "cell_type": "code",
   "execution_count": 24,
   "id": "0114fdd0-d854-40a2-bc6f-4a60ad61a6be",
   "metadata": {},
   "outputs": [
    {
     "name": "stdout",
     "output_type": "stream",
     "text": [
      "['20k', '45k', '40k', '55k', '60k', '35k', '89k', '40k', '100k', '120k']\n"
     ]
    }
   ],
   "source": [
    "salaries.reverse()\n",
    "\n",
    "print(salaries)"
   ]
  },
  {
   "cell_type": "markdown",
   "id": "7a8c54d8-9aef-46fb-945d-91967d8d579d",
   "metadata": {},
   "source": [
    "### 10. Reverse the order of the salaries list without method"
   ]
  },
  {
   "cell_type": "code",
   "execution_count": 36,
   "id": "5b0f3cb7-4f81-4ba9-8eec-c9ead222dd77",
   "metadata": {},
   "outputs": [
    {
     "name": "stdout",
     "output_type": "stream",
     "text": [
      "['120k', '100k', '40k', '89k', '35k', '60k', '55k', '40k', '45k', '20k']\n"
     ]
    }
   ],
   "source": [
    "print(salaries[::-1])"
   ]
  }
 ],
 "metadata": {
  "kernelspec": {
   "display_name": "Python 3 (ipykernel)",
   "language": "python",
   "name": "python3"
  },
  "language_info": {
   "codemirror_mode": {
    "name": "ipython",
    "version": 3
   },
   "file_extension": ".py",
   "mimetype": "text/x-python",
   "name": "python",
   "nbconvert_exporter": "python",
   "pygments_lexer": "ipython3",
   "version": "3.12.7"
  }
 },
 "nbformat": 4,
 "nbformat_minor": 5
}
