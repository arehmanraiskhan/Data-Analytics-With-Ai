{
 "cells": [
  {
   "cell_type": "markdown",
   "id": "97700bbc-b1c0-4fc8-91f1-18d6c909f75e",
   "metadata": {},
   "source": [
    "# Assignment 2"
   ]
  },
  {
   "cell_type": "markdown",
   "id": "79f3b418-d7b3-4358-a994-b19ce981435b",
   "metadata": {},
   "source": [
    "### Question 1: Age Group Classification"
   ]
  },
  {
   "cell_type": "code",
   "execution_count": 7,
   "id": "f60918ef-73f2-45c4-b2f4-930b8b0dc327",
   "metadata": {},
   "outputs": [
    {
     "name": "stdin",
     "output_type": "stream",
     "text": [
      "Enter the age of the person:  67\n"
     ]
    },
    {
     "name": "stdout",
     "output_type": "stream",
     "text": [
      "Senior\n"
     ]
    }
   ],
   "source": [
    "age = int(input(\"Enter the age of the person: \"))\n",
    "if age < 0:\n",
    "    print(\"Invalid age\")\n",
    "elif age <= 12:\n",
    "    print(\"Child\")\n",
    "elif age <= 19:\n",
    "    print(\"Teenager\")\n",
    "elif age <= 64:\n",
    "    print(\"Adult\")\n",
    "else:\n",
    "    print(\"Senior\")"
   ]
  },
  {
   "cell_type": "markdown",
   "id": "07e7127d-2b0c-48a1-ad8c-297a64e818b7",
   "metadata": {},
   "source": [
    "### Question 2: Checking for Eligibility for Discount"
   ]
  },
  {
   "cell_type": "code",
   "execution_count": 13,
   "id": "02262d91-6143-4c7c-a634-cea8f77fb85a",
   "metadata": {},
   "outputs": [
    {
     "name": "stdin",
     "output_type": "stream",
     "text": [
      "Enter the membership status (premium/regular):  \n",
      "Enter the purchase amount:  6000\n"
     ]
    },
    {
     "name": "stdout",
     "output_type": "stream",
     "text": [
      "Not eligible for discount\n"
     ]
    }
   ],
   "source": [
    "membershipstatus = input(\"Enter the membership status (premium/regular): \")\n",
    "purchaseamount = int(input(\"Enter the purchase amount: \"))\n",
    "if membershipstatus == \"premium\" and purchaseamount >= 1000:\n",
    "        print(\"Eligible for discount\")\n",
    "elif membershipstatus == \"regular\" and purchaseamount >= 2000:\n",
    "        print(\"Eligible for discount\")\n",
    "else:\n",
    "    print(\"Not eligible for discount\")"
   ]
  },
  {
   "cell_type": "markdown",
   "id": "da8744ca-cff3-4e9e-99a3-0873b29e6af8",
   "metadata": {},
   "source": [
    "### Question 3: Voting Eligibility Check"
   ]
  },
  {
   "cell_type": "code",
   "execution_count": 15,
   "id": "d10ff8a7-287e-4a8b-a6b6-c1d3adb9834c",
   "metadata": {},
   "outputs": [
    {
     "name": "stdin",
     "output_type": "stream",
     "text": [
      "Enter your age:  17\n",
      "Enter your citizenship status (citizen/non-citizen):  citizen\n",
      "Are you from a special region where voting is allowed from age 16? (yes/no):  yes\n"
     ]
    },
    {
     "name": "stdout",
     "output_type": "stream",
     "text": [
      "Eligible to vote\n"
     ]
    }
   ],
   "source": [
    "age = int(input(\"Enter your age: \"))\n",
    "citizenshipstatus = input(\"Enter your citizenship status (citizen/non-citizen): \")\n",
    "if citizenshipstatus == \"citizen\":\n",
    "    if age >= 18:\n",
    "        print(\"Eligible to vote\")\n",
    "    elif age >= 16:\n",
    "        specialregion = input(\"Are you from a special region where voting is allowed from age 16? (yes/no): \")\n",
    "        if specialregion == \"yes\":\n",
    "            print(\"Eligible to vote\")\n",
    "        elif specialregion == \"no\":\n",
    "            print(\"Not eligible to vote\")\n",
    "        else:\n",
    "            print(\"Invalid input for special region. Please enter 'yes' or 'no'.\")\n",
    "    else:\n",
    "        print(\"Not eligible to vote\")\n",
    "else:\n",
    "    print(\"Not eligible to vote\")"
   ]
  },
  {
   "cell_type": "markdown",
   "id": "3c70d4ee-ca47-4a3a-9209-484a0631ac70",
   "metadata": {},
   "source": [
    "### Question 4: Employee Salary Bonus Eligibility"
   ]
  },
  {
   "cell_type": "code",
   "execution_count": 15,
   "id": "37a32a3e-f78c-4eee-bf12-9f0829d9c408",
   "metadata": {},
   "outputs": [
    {
     "name": "stdin",
     "output_type": "stream",
     "text": [
      "Enter the performance rating (Excellent/Good/Satisfactory):  Satisfactory\n",
      "Enter the years of service:  15\n"
     ]
    },
    {
     "name": "stdout",
     "output_type": "stream",
     "text": [
      "Eligible for bonus\n"
     ]
    }
   ],
   "source": [
    "performancerating = input(\"Enter the performance rating (Excellent/Good/Satisfactory): \")\n",
    "\n",
    "yearsofservice = int(input(\"Enter the years of service: \"))\n",
    "\n",
    "if performancerating == \"Excellent\" and yearsofservice >= 5:\n",
    "    print(\"Eligible for bonus\")\n",
    "elif performancerating == \"Good\" and yearsofservice >= 10:\n",
    "    print(\"Eligible for bonus\")\n",
    "elif performancerating == \"Satisfactory\" or yearsofservice >= 15:\n",
    "    print(\"Eligible for bonus\")\n",
    "else:\n",
    "    print(\"Not eligible for bonus\")"
   ]
  },
  {
   "cell_type": "markdown",
   "id": "373edc27-d164-4a3a-87f4-75e07d413cfe",
   "metadata": {},
   "source": [
    "### Question 5"
   ]
  },
  {
   "cell_type": "code",
   "execution_count": 18,
   "id": "7dd7ac16-5822-4ad7-b012-29ac9b73a63a",
   "metadata": {},
   "outputs": [
    {
     "name": "stdout",
     "output_type": "stream",
     "text": [
      "I'm_learning_Python_programming\n",
      "Total Number of underscores  3\n",
      "Position of First underscore 3\n"
     ]
    }
   ],
   "source": [
    "text=\"I'm learning Python programming\"\n",
    "text=text.replace(\" \",\"_\")\n",
    "print(text)\n",
    "print(\"Total Number of underscores \",text.count(\"_\"))\n",
    "print(\"Position of First underscore\",text.index(\"_\"))"
   ]
  },
  {
   "cell_type": "markdown",
   "id": "0e07febf-aefc-4f36-8c91-876b70d19223",
   "metadata": {},
   "source": [
    "### Question 6"
   ]
  },
  {
   "cell_type": "code",
   "execution_count": 21,
   "id": "ed486d62-b70c-470f-a634-c635ae1f81ea",
   "metadata": {},
   "outputs": [
    {
     "name": "stdin",
     "output_type": "stream",
     "text": [
      "Enter String Original string\n"
     ]
    },
    {
     "name": "stdout",
     "output_type": "stream",
     "text": [
      "Original String: Original string\n",
      "All Characters Except Last 3: Original str\n",
      "Every Second Character of String: Oiia tig\n",
      "Reverse String : gnirts lanigirO\n"
     ]
    }
   ],
   "source": [
    "text=input(\"Enter String\")\n",
    "print(\"Original String:\",text)\n",
    "print(\"All Characters Except Last 3:\",text[:-3])\n",
    "print(\"Every Second Character of String:\",text[::2])\n",
    "print(\"Reverse String :\",text[::-1])"
   ]
  },
  {
   "cell_type": "markdown",
   "id": "8264dfd4-1a6a-4fb2-b81f-ca2a198bcfab",
   "metadata": {},
   "source": [
    "### Question 7"
   ]
  },
  {
   "cell_type": "code",
   "execution_count": 26,
   "id": "d22da8b4-3139-4bd6-9a7e-7d36673e0864",
   "metadata": {},
   "outputs": [
    {
     "name": "stdout",
     "output_type": "stream",
     "text": [
      "Original String: Hello World, We are learning Python\n",
      "Reverse Order String Python learning are We World, Hello\n"
     ]
    }
   ],
   "source": [
    "txt=\"Hello World, We are learning Python\"\n",
    "print(\"Original String:\",txt)\n",
    "txt=txt.split()\n",
    "txt.reverse()\n",
    "txt=\" \".join(txt)\n",
    "print(\"Reverse Order String\",txt)"
   ]
  },
  {
   "cell_type": "markdown",
   "id": "4f5d1a5f-8ce2-4b20-a9ad-3d30ab641a71",
   "metadata": {},
   "source": [
    "### Question 8"
   ]
  },
  {
   "cell_type": "code",
   "execution_count": 29,
   "id": "9fcc6290-bd52-4513-b07f-8a35f790f0c8",
   "metadata": {},
   "outputs": [
    {
     "name": "stdout",
     "output_type": "stream",
     "text": [
      "12345\n"
     ]
    }
   ],
   "source": [
    "prod_code=\"SKU-12345-XYZ\"\n",
    "prod_code=prod_code.replace(prod_code[0:4],\"\")\n",
    "prod_code=prod_code.replace(prod_code[-4:],\"\")\n",
    "print(int(prod_code))\n"
   ]
  },
  {
   "cell_type": "markdown",
   "id": "1f27d2a6-0137-48f3-9f76-8f9792e93376",
   "metadata": {},
   "source": [
    "### Question 9"
   ]
  },
  {
   "cell_type": "code",
   "execution_count": 19,
   "id": "e11a3df5-9f32-4293-9efc-1a66adb06106",
   "metadata": {},
   "outputs": [
    {
     "name": "stdin",
     "output_type": "stream",
     "text": [
      "Enter Password 123456\n"
     ]
    },
    {
     "name": "stdout",
     "output_type": "stream",
     "text": [
      "Password Contains Only Numbers\n"
     ]
    }
   ],
   "source": [
    "txt=input(\"Enter Password\")\n",
    "if txt.isalnum()==True and txt.isdecimal()==False and txt.isalpha()==False :\n",
    "    print(\"Password Contains Numbers and Alpabets\")\n",
    "elif txt.isalpha()==True:\n",
    "    print(\"Password Contains Only Alphabats\")\n",
    "    if txt.islower()==True:\n",
    "        print(\"Password Contains all lower case Alphabets\")\n",
    "    elif txt.isupper()==True:\n",
    "        print(\"Password Contains all Uppercase Alphabets\")\n",
    "    else:\n",
    "        print(\"Password Contains both Upper and Lower Case Alphabets\")\n",
    "elif txt.isdecimal()==True:\n",
    "    print(\"Password Contains Only Numbers\")\n",
    "elif txt.isspace()==True:\n",
    "    print(\"Password Contain Spaces\")\n",
    "else:\n",
    "    print(\"Password Contain Special Characters,Numbers and Alpabets\")"
   ]
  },
  {
   "cell_type": "markdown",
   "id": "e9af96bd-e82c-4cca-9b18-f370f1a48a48",
   "metadata": {},
   "source": [
    "### Question 10"
   ]
  },
  {
   "cell_type": "code",
   "execution_count": 37,
   "id": "f27c5c25-689f-49fa-a3c2-cd15abf1e0bb",
   "metadata": {},
   "outputs": [
    {
     "name": "stdin",
     "output_type": "stream",
     "text": [
      "Enter String I'm learning Python\n"
     ]
    },
    {
     "name": "stdout",
     "output_type": "stream",
     "text": [
      "learning\n"
     ]
    }
   ],
   "source": [
    "txt=input(\"Enter String\")\n",
    "txt=txt.split()\n",
    "longest_word=max(txt,key=len)\n",
    "print(longest_word)"
   ]
  },
  {
   "cell_type": "code",
   "execution_count": null,
   "id": "2338c087-e7e3-40ba-a1fa-fbb39b3cb502",
   "metadata": {},
   "outputs": [],
   "source": []
  }
 ],
 "metadata": {
  "kernelspec": {
   "display_name": "Python 3 (ipykernel)",
   "language": "python",
   "name": "python3"
  },
  "language_info": {
   "codemirror_mode": {
    "name": "ipython",
    "version": 3
   },
   "file_extension": ".py",
   "mimetype": "text/x-python",
   "name": "python",
   "nbconvert_exporter": "python",
   "pygments_lexer": "ipython3",
   "version": "3.12.7"
  }
 },
 "nbformat": 4,
 "nbformat_minor": 5
}
