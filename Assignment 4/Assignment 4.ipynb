{
 "cells": [
  {
   "cell_type": "markdown",
   "id": "ebe387e9-3ba2-464b-9555-efb2443d7cf3",
   "metadata": {},
   "source": [
    "# Assignment 04"
   ]
  },
  {
   "cell_type": "markdown",
   "id": "35b7cea5-a27b-4fb2-ad7b-e1488527d3ff",
   "metadata": {},
   "source": [
    "### Quuestion 01"
   ]
  },
  {
   "cell_type": "code",
   "execution_count": 4,
   "id": "f035c5b8-2ae3-4439-8674-095c9298c6ca",
   "metadata": {},
   "outputs": [
    {
     "name": "stdout",
     "output_type": "stream",
     "text": [
      "Elements of my_tuple:\n",
      "(1, 2, 3)\n",
      "[4, 5, 6]\n",
      "('apple', 'banana', 'cherry')\n",
      "[7, 8, 9]\n",
      "New tuple: (1, 2, 3, 7, 8, 9)\n"
     ]
    }
   ],
   "source": [
    "my_tuple = ((1, 2, 3), [4, 5, 6], ('apple', 'banana', 'cherry'), [7, 8, 9])\n",
    "\n",
    "# Task 1: Print all elements from my_tuple on a new line\n",
    "print(\"Elements of my_tuple:\")\n",
    "for element in my_tuple:\n",
    "    print(element)\n",
    "\n",
    "# Task 2: Create a new tuple by concatenating the first and last elements\n",
    "new_tuple = my_tuple[0] + tuple(my_tuple[-1])  \n",
    "print(\"New tuple:\", new_tuple)"
   ]
  },
  {
   "cell_type": "markdown",
   "id": "e63c1318-49b8-4a40-bf46-4c6942f65c72",
   "metadata": {},
   "source": [
    "### Question 02"
   ]
  },
  {
   "cell_type": "code",
   "execution_count": 1,
   "id": "825d6c48-8c56-4ac0-9a5d-9fe4ab0c024a",
   "metadata": {},
   "outputs": [
    {
     "name": "stdout",
     "output_type": "stream",
     "text": [
      "The Great Gatsby\n",
      "Rich dad poor dad\n",
      "Harry Potter\n",
      "Smarter Way to Learn Python\n",
      "Deleted Book: Smarter Way to Learn Python:{'price': 15.99, 'quantity': 0}\n"
     ]
    }
   ],
   "source": [
    "inventory = { \n",
    "    \"The Great Gatsby\": {\"price\": 10.99, \"quantity\": 5}, \n",
    "    \"Rich dad poor dad\": {\"price\":8.99, \"quantity\": 8}, \n",
    "    \"Harry Potter\": {\"price\": 12.50, \"quantity\": 2}, \n",
    "} \n",
    "#adding new book in the inventory \n",
    "new_book=inventory.update({\"Smarter Way to Learn Python\":{\"price\":15.99,\"quantity\":0}})\n",
    "#get all the title using methods\n",
    "for i in inventory.keys():\n",
    "    print(i)\n",
    "#remove a book if's out of stock\n",
    "book_to_del=[]\n",
    "for key,value in inventory.items():\n",
    "    if value[\"quantity\"]==0:\n",
    "        book_to_del.append(key)\n",
    "for i in book_to_del:\n",
    "    deletedbook=inventory.pop(i)\n",
    "    print(f\"Deleted Book: {i}:{deletedbook}\")"
   ]
  },
  {
   "cell_type": "markdown",
   "id": "9c50d6e7-e5d9-4935-8482-170a69332ef4",
   "metadata": {},
   "source": [
    "### Question 03"
   ]
  },
  {
   "cell_type": "code",
   "execution_count": 4,
   "id": "47187d96-e9ab-40d9-8ecd-947aedabceb1",
   "metadata": {},
   "outputs": [
    {
     "name": "stdout",
     "output_type": "stream",
     "text": [
      "{101: {'name': 'Laptop', 'category': 'Electronics', 'price': 1200, 'stock': 50}, 102: {'name': 'Shirt', 'category': 'Apparel', 'price': 25, 'stock': 250}, 103: {'name': 'Coffee Maker', 'category': 'Home Appliances', 'price': 80, 'stock': 30}, 104: {'name': 'Smartphone', 'category': 'Electronics', 'price': 700, 'stock': 100}}\n"
     ]
    }
   ],
   "source": [
    "products = {\n",
    "    101: {\"name\": \"Laptop\", \"category\": \"Electronics\", \"price\": 1200, \"stock\": 50},\n",
    "    102: {\"name\": \"Shirt\", \"category\": \"Apparel\", \"price\": 25, \"stock\": 200},\n",
    "    103: {\"name\": \"Coffee Maker\", \"category\": \"Home Appliances\", \"price\": 80, \"stock\": 30}\n",
    "}\n",
    "\n",
    "# Increase the stock of the \"Shirt\" product (add 50 more units)\n",
    "products[102][\"stock\"] += 50\n",
    "\n",
    "# Add a new product (e.g., \"Smartphone\")\n",
    "products[104] = {\n",
    "    \"name\": \"Smartphone\",\n",
    "    \"category\": \"Electronics\",\n",
    "    \"price\": 700,\n",
    "    \"stock\": 100\n",
    "}\n",
    "\n",
    "# Print the updated products dictionary\n",
    "print(products)\n"
   ]
  },
  {
   "cell_type": "markdown",
   "id": "2dc27d1a-8b0c-44eb-93ff-fd020fd5cb13",
   "metadata": {},
   "source": [
    "### Question 04"
   ]
  },
  {
   "cell_type": "code",
   "execution_count": 7,
   "id": "714bf3c0-4b99-4f21-b0a2-637739c2998d",
   "metadata": {},
   "outputs": [
    {
     "name": "stdout",
     "output_type": "stream",
     "text": [
      "['banana', 'orange', 'apple', 'grape']\n"
     ]
    }
   ],
   "source": [
    "shopping_list = [\"apple\", \"banana\", \"apple\", \"orange\", \"banana\", \"grape\"]\n",
    "\n",
    "# Remove duplicates by converting the list to a set\n",
    "unique_shopping_list = list(set(shopping_list))\n",
    "\n",
    "# Print the unique shopping list\n",
    "print(unique_shopping_list)\n"
   ]
  },
  {
   "cell_type": "markdown",
   "id": "8e6b209c-dccb-4cb1-9a7c-d41e5f14ea09",
   "metadata": {},
   "source": [
    "### Question 05"
   ]
  },
  {
   "cell_type": "code",
   "execution_count": 12,
   "id": "9cd2c364-4e2d-4b63-b9df-1dde0882ddb5",
   "metadata": {},
   "outputs": [
    {
     "name": "stdout",
     "output_type": "stream",
     "text": [
      "Students in Course A but not in Course B: {'John', 'Bob'}\n",
      "Students only in one of the two courses: {'Eve', 'John', 'Charlie', 'Bob'}\n"
     ]
    }
   ],
   "source": [
    "course_a = {\"John\", \"Alice\", \"Bob\", \"David\"}\n",
    "course_b = {\"Alice\", \"Eve\", \"Charlie\", \"David\"}\n",
    "\n",
    "# Find students who are in Course A but not in Course B (difference)\n",
    "difference_a_b = course_a - course_b\n",
    "\n",
    "# Find students who are only in one of the two courses (symmetric difference)\n",
    "symmetric_difference = course_a ^ course_b\n",
    "\n",
    "# Print the results\n",
    "print(\"Students in Course A but not in Course B:\", difference_a_b)\n",
    "print(\"Students only in one of the two courses:\", symmetric_difference)\n"
   ]
  },
  {
   "cell_type": "markdown",
   "id": "a0313175-76cd-46b5-92e6-5dc36a844ed6",
   "metadata": {},
   "source": [
    "### Question 06"
   ]
  },
  {
   "cell_type": "code",
   "execution_count": 31,
   "id": "e91ad214-7360-4e35-bca6-39787c44e965",
   "metadata": {},
   "outputs": [
    {
     "name": "stdout",
     "output_type": "stream",
     "text": [
      "f The sum of all even numbers between 1 and 50 is: 650\n"
     ]
    }
   ],
   "source": [
    "sum_of_evens = 0\n",
    "\n",
    "# Use a for loop to iterate through all numbers from 1 to 50\n",
    "for number in range(1, 51):\n",
    "    # Check if the number is even\n",
    "    if number % 2 == 0:\n",
    "        # Add the even number to sum_of_evens\n",
    "        sum_of_evens += number\n",
    "\n",
    "# Print the total sum of all even numbers between 1 and 50\n",
    "print(\"f The sum of all even numbers between 1 and 50 is:\", sum_of_evens)"
   ]
  },
  {
   "cell_type": "markdown",
   "id": "ddc2e65b-c414-4188-8f78-108214157979",
   "metadata": {},
   "source": [
    "### Question 07"
   ]
  },
  {
   "cell_type": "code",
   "execution_count": 38,
   "id": "abd870ac-804c-40d6-b31f-3a34ac20f3cc",
   "metadata": {},
   "outputs": [
    {
     "name": "stdin",
     "output_type": "stream",
     "text": [
      "Enter a number between 1 and 10:  4\n"
     ]
    },
    {
     "name": "stdout",
     "output_type": "stream",
     "text": [
      "4 x 1 = 4\n",
      "4 x 2 = 8\n",
      "4 x 3 = 12\n",
      "4 x 4 = 16\n",
      "4 x 5 = 20\n",
      "4 x 6 = 24\n",
      "4 x 7 = 28\n",
      "4 x 8 = 32\n",
      "4 x 9 = 36\n",
      "4 x 10 = 40\n"
     ]
    }
   ],
   "source": [
    "number = int(input(\"Enter a number between 1 and 10: \"))\n",
    "\n",
    "# Check if the input is within the valid range\n",
    "if 1 <= number <= 10:\n",
    "    # Use a for loop to generate the multiplication table\n",
    "    for i in range(1, 11):\n",
    "        product = number * i\n",
    "        print(f\"{number} x {i} = {product}\")\n",
    "else:\n",
    "    print(\"Please enter a valid number between 1 and 10.\")\n"
   ]
  },
  {
   "cell_type": "markdown",
   "id": "885ab301-1423-4c5c-b52c-dad93d2d1e77",
   "metadata": {},
   "source": [
    "### Question 08\n"
   ]
  },
  {
   "cell_type": "code",
   "execution_count": 41,
   "id": "0d2915f0-bf34-42cf-bb3f-c4aeaae60811",
   "metadata": {},
   "outputs": [
    {
     "name": "stdin",
     "output_type": "stream",
     "text": [
      "Enter a number:  6\n"
     ]
    },
    {
     "name": "stdout",
     "output_type": "stream",
     "text": [
      "6^1 = 6\n",
      "6^2 = 36\n",
      "6^3 = 216\n",
      "6^4 = 1296\n",
      "6^5 = 7776\n",
      "6^6 = 46656\n",
      "6^7 = 279936\n",
      "6^8 = 1679616\n",
      "6^9 = 10077696\n",
      "6^10 = 60466176\n"
     ]
    }
   ],
   "source": [
    "number = int(input(\"Enter a number: \"))\n",
    "\n",
    "# Initialize the exponent\n",
    "exponent = 1\n",
    "\n",
    "# Use a while loop to calculate and print powers from 1 to 10\n",
    "while exponent <= 10:\n",
    "    result = number ** exponent\n",
    "    print(f\"{number}^{exponent} = {result}\")\n",
    "    exponent += 1\n"
   ]
  },
  {
   "cell_type": "markdown",
   "id": "087901d2-3489-4a97-a59e-0b2e1d0b3b4f",
   "metadata": {},
   "source": [
    "### Question 09"
   ]
  },
  {
   "cell_type": "code",
   "execution_count": 47,
   "id": "b18dd741-7d5c-4829-baf5-dc9f90379968",
   "metadata": {},
   "outputs": [
    {
     "name": "stdin",
     "output_type": "stream",
     "text": [
      "Enter a number to start the countdown:  69\n"
     ]
    },
    {
     "name": "stdout",
     "output_type": "stream",
     "text": [
      "69\n",
      "68\n",
      "67\n",
      "66\n",
      "65\n",
      "64\n",
      "63\n",
      "62\n",
      "61\n",
      "60\n",
      "59\n",
      "58\n",
      "57\n",
      "56\n",
      "55\n",
      "54\n",
      "53\n",
      "52\n",
      "51\n",
      "50\n",
      "49\n",
      "48\n",
      "47\n",
      "46\n",
      "45\n",
      "44\n",
      "43\n",
      "42\n",
      "41\n",
      "40\n",
      "39\n",
      "38\n",
      "37\n",
      "36\n",
      "35\n",
      "34\n",
      "33\n",
      "32\n",
      "31\n",
      "30\n",
      "29\n",
      "28\n",
      "27\n",
      "26\n",
      "25\n",
      "24\n",
      "23\n",
      "22\n",
      "21\n",
      "20\n",
      "19\n",
      "18\n",
      "17\n",
      "16\n",
      "15\n",
      "14\n",
      "13\n",
      "12\n",
      "11\n",
      "10\n",
      "9\n",
      "8\n",
      "7\n",
      "6\n",
      "5\n",
      "4\n",
      "3\n",
      "2\n",
      "1\n",
      "0\n",
      "Countdown finished!\n"
     ]
    }
   ],
   "source": [
    "number = int(input(\"Enter a number to start the countdown: \"))\n",
    "\n",
    "# Use a while loop to count down to 0\n",
    "while number >= 0:\n",
    "    print(number)\n",
    "    number -= 1\n",
    "\n",
    "# Print a message indicating the countdown is finished\n",
    "print(\"Countdown finished!\")\n"
   ]
  },
  {
   "cell_type": "markdown",
   "id": "010fd99f-f6fb-427c-b0e1-c1e374c9f095",
   "metadata": {},
   "source": [
    "### Question 10"
   ]
  },
  {
   "cell_type": "code",
   "execution_count": 55,
   "id": "df806b2c-13d0-45e5-814a-5b632bb77958",
   "metadata": {},
   "outputs": [
    {
     "name": "stdin",
     "output_type": "stream",
     "text": [
      "Enter the number of rows for the triangle pattern:  29\n"
     ]
    },
    {
     "name": "stdout",
     "output_type": "stream",
     "text": [
      "* \n",
      "* * \n",
      "* * * \n",
      "* * * * \n",
      "* * * * * \n",
      "* * * * * * \n",
      "* * * * * * * \n",
      "* * * * * * * * \n",
      "* * * * * * * * * \n",
      "* * * * * * * * * * \n",
      "* * * * * * * * * * * \n",
      "* * * * * * * * * * * * \n",
      "* * * * * * * * * * * * * \n",
      "* * * * * * * * * * * * * * \n",
      "* * * * * * * * * * * * * * * \n",
      "* * * * * * * * * * * * * * * * \n",
      "* * * * * * * * * * * * * * * * * \n",
      "* * * * * * * * * * * * * * * * * * \n",
      "* * * * * * * * * * * * * * * * * * * \n",
      "* * * * * * * * * * * * * * * * * * * * \n",
      "* * * * * * * * * * * * * * * * * * * * * \n",
      "* * * * * * * * * * * * * * * * * * * * * * \n",
      "* * * * * * * * * * * * * * * * * * * * * * * \n",
      "* * * * * * * * * * * * * * * * * * * * * * * * \n",
      "* * * * * * * * * * * * * * * * * * * * * * * * * \n",
      "* * * * * * * * * * * * * * * * * * * * * * * * * * \n",
      "* * * * * * * * * * * * * * * * * * * * * * * * * * * \n",
      "* * * * * * * * * * * * * * * * * * * * * * * * * * * * \n",
      "* * * * * * * * * * * * * * * * * * * * * * * * * * * * * \n"
     ]
    }
   ],
   "source": [
    "n = int(input(\"Enter the number of rows for the triangle pattern: \"))\n",
    "\n",
    "# Generate the triangle pattern\n",
    "for i in range(1, n + 1):\n",
    "    print(\"* \" * i)\n"
   ]
  },
  {
   "cell_type": "code",
   "execution_count": null,
   "id": "cf7deafa-9fcd-4def-ae9a-e1c82fdc6dc5",
   "metadata": {},
   "outputs": [],
   "source": []
  }
 ],
 "metadata": {
  "kernelspec": {
   "display_name": "Python 3 (ipykernel)",
   "language": "python",
   "name": "python3"
  },
  "language_info": {
   "codemirror_mode": {
    "name": "ipython",
    "version": 3
   },
   "file_extension": ".py",
   "mimetype": "text/x-python",
   "name": "python",
   "nbconvert_exporter": "python",
   "pygments_lexer": "ipython3",
   "version": "3.12.7"
  }
 },
 "nbformat": 4,
 "nbformat_minor": 5
}
