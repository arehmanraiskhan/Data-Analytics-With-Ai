{
 "cells": [
  {
   "cell_type": "markdown",
   "id": "b17184dc-2f82-4b8a-ba56-7505b7e1f0af",
   "metadata": {},
   "source": [
    "# Assignment 06:"
   ]
  },
  {
   "cell_type": "markdown",
   "id": "996cbc2e-ec3e-45a3-9e1c-8ce5e93460b5",
   "metadata": {},
   "source": [
    "### Question 1:"
   ]
  },
  {
   "cell_type": "code",
   "execution_count": null,
   "id": "0e3c8bc3-bd76-4c68-a728-19e7ff469cd1",
   "metadata": {},
   "outputs": [],
   "source": [
    "#Question 1:\n",
    "# In a transportation system, we have two classes:\n",
    "#  ElectricVehicle: A class that has a method charge() to charge the vehicle.\n",
    "#  GasolineVehicle: A class that has a method fuel_up() to refuel the vehicle.\n",
    "# Create a class HybridCar that inherits from both ElectricVehicle and GasolineVehicle. The HybridCar\n",
    "# class should have a method drive() that prints a message showing the car is being driven. Instantiate\n",
    "# an object of class HybridCar and demonstrate the usage of charge(), fuel_up(), and drive().\n",
    "# Expected Output:\n",
    "#  Charging the electric vehicle.\n",
    "#  Filling up the gasoline tank.\n",
    "#  Driving the hybrid car."
   ]
  },
  {
   "cell_type": "code",
   "execution_count": 4,
   "id": "719ff9e3-3693-4534-97f5-d8395d426c1b",
   "metadata": {},
   "outputs": [
    {
     "name": "stdout",
     "output_type": "stream",
     "text": [
      "Charging the electric vehicle.\n",
      "Filling up the gasoline tank.\n",
      "Driving the hybrid car.\n"
     ]
    }
   ],
   "source": [
    "# Parent class for electric vehicles\n",
    "class ElectricVehicle:\n",
    "    def charge(self):\n",
    "        print(\"Charging the electric vehicle.\")\n",
    "\n",
    "# Parent class for gasoline vehicles\n",
    "class GasolineVehicle:\n",
    "    def fuel_up(self):\n",
    "        print(\"Filling up the gasoline tank.\")\n",
    "\n",
    "# HybridCar inherits from both ElectricVehicle and GasolineVehicle\n",
    "class HybridCar(ElectricVehicle, GasolineVehicle):\n",
    "    def drive(self):\n",
    "        print(\"Driving the hybrid car.\")\n",
    "        \n",
    "my_hybrid_car = HybridCar()\n",
    "\n",
    "my_hybrid_car.charge()    \n",
    "my_hybrid_car.fuel_up()   \n",
    "my_hybrid_car.drive()     "
   ]
  },
  {
   "cell_type": "markdown",
   "id": "d752ee55-2ab5-4e09-b649-40f9bbb24711",
   "metadata": {},
   "source": [
    "### Question 2:"
   ]
  },
  {
   "cell_type": "code",
   "execution_count": null,
   "id": "38936afe-7d18-47c8-b348-e550131f898f",
   "metadata": {},
   "outputs": [],
   "source": [
    "# Question 2:\n",
    "# Create a class Animal with a method make_sound(), which prints &quot;Animal makes a sound&quot;. Then,\n",
    "# create two subclasses:\n",
    "#  Lion: Override the make_sound() method to print &quot;Roar&quot;.\n",
    "#  Cat: Override the make_sound() method to print &quot;Meow&quot;.\n",
    "# Demonstrate polymorphism by calling make_sound() on instances of Lion and Cat."
   ]
  },
  {
   "cell_type": "code",
   "execution_count": 9,
   "id": "0b580eb4-c8ac-492d-976c-8fe45d072c6c",
   "metadata": {},
   "outputs": [
    {
     "name": "stdout",
     "output_type": "stream",
     "text": [
      "Roar\n",
      "Meow\n"
     ]
    }
   ],
   "source": [
    "# Parent class\n",
    "class Animal:\n",
    "    def make_sound(self):\n",
    "        print(\"Animal makes a sound.\")\n",
    "\n",
    "# Subclass Lion overrides make_sound()\n",
    "class Lion(Animal):\n",
    "    def make_sound(self):\n",
    "        print(\"Roar\")\n",
    "\n",
    "# Subclass Cat overrides make_sound()\n",
    "class Cat(Animal):\n",
    "    def make_sound(self):\n",
    "        print(\"Meow\")\n",
    "\n",
    "lion = Lion()\n",
    "cat = Cat()\n",
    "\n",
    "lion.make_sound()\n",
    "cat.make_sound() "
   ]
  },
  {
   "cell_type": "markdown",
   "id": "237c1b7a-80ce-4a84-b6de-38593f23f360",
   "metadata": {},
   "source": [
    "### Question 3:"
   ]
  },
  {
   "cell_type": "code",
   "execution_count": null,
   "id": "7b5128f6-65d3-40b1-bfcc-e0ec21e06079",
   "metadata": {},
   "outputs": [],
   "source": [
    "# Question 3:\n",
    "# Create an abstract class SmartHomeDevice with two abstract methods:\n",
    "#  turn_on() (to turn the device on)\n",
    "#  turn_off() (to turn the device off)\n",
    "# Then, create a Light class that inherits from SmartHomeDevice. Implement the methods turn_on()\n",
    "# and turn_off() for a light device. The turn_on() method should print &quot;Light is ON&quot;, and the turn_off()\n",
    "# method should print &quot;Light is OFF&quot;.\n",
    "# Write a Python program to control the light device in a smart home.\n",
    "# Expected Output:\n",
    "#  Turning on the light...\n",
    "#  Light is ON\n",
    "#  Turning off the light...\n",
    "#  Light is OFF"
   ]
  },
  {
   "cell_type": "code",
   "execution_count": 15,
   "id": "17a86d10-0993-44c5-b578-458af566bd31",
   "metadata": {},
   "outputs": [
    {
     "name": "stdout",
     "output_type": "stream",
     "text": [
      "Turning on the light...\n",
      "Light is ON\n",
      "Turning off the light...\n",
      "Light is OFF\n"
     ]
    }
   ],
   "source": [
    "from abc import ABC, abstractmethod\n",
    "\n",
    "# Abstract class\n",
    "class SmartHomeDevice(ABC):\n",
    "    @abstractmethod\n",
    "    def turn_on(self):\n",
    "        pass  # Abstract method to be implemented in subclasses\n",
    "\n",
    "    @abstractmethod\n",
    "    def turn_off(self):\n",
    "        pass  # Abstract method to be implemented in subclasses\n",
    "\n",
    "# Light class inheriting from SmartHomeDevice\n",
    "class Light(SmartHomeDevice):\n",
    "    def turn_on(self):\n",
    "        print(\"Light is ON\")\n",
    "\n",
    "    def turn_off(self):\n",
    "        print(\"Light is OFF\")\n",
    "\n",
    "print(\"Turning on the light...\")\n",
    "light = Light()  \n",
    "light.turn_on()   \n",
    "\n",
    "print(\"Turning off the light...\")\n",
    "light.turn_off()  \n"
   ]
  },
  {
   "cell_type": "markdown",
   "id": "67733a47-54f9-4bf0-8068-38d4258dcd5b",
   "metadata": {},
   "source": [
    "### Question 4:"
   ]
  },
  {
   "cell_type": "code",
   "execution_count": null,
   "id": "969e3293-9dd5-41ff-b471-20e4122fd8fb",
   "metadata": {},
   "outputs": [],
   "source": [
    "#Question 4:\n",
    "# Create a class Greeting with a method greet() that can handle different numbers of arguments.\n",
    "#  If no argument is passed, it should print &quot;Hello!&quot;.\n",
    "#  If one argument (a name) is passed, it should print &quot;Hello, !&quot;.\n",
    "#  If two arguments (a name and a greeting) are passed, it should print the greeting with the\n",
    "# name (e.g., &quot;Good morning, !&quot;).\n",
    "# Simulate method overloading using default arguments or variable-length arguments, and\n",
    "# demonstrate the polymorphic behavior by calling greet() with different numbers of arguments.\n",
    "# Expected Output:\n",
    "#  Hello!\n",
    "#  Hello, John!\n",
    "#  Good morning, John!"
   ]
  },
  {
   "cell_type": "code",
   "execution_count": 18,
   "id": "73bd62ee-a61d-450b-bc33-e1183c876dbc",
   "metadata": {},
   "outputs": [
    {
     "name": "stdout",
     "output_type": "stream",
     "text": [
      "Hello!\n",
      "Hello, John!\n",
      "Good morning, John!\n"
     ]
    }
   ],
   "source": [
    "class Greeting:\n",
    "    def greet(self, name=None, greeting=\"Hello\"):\n",
    "        if name is None:\n",
    "            # No arguments provided\n",
    "            print(\"Hello!\")\n",
    "        else:\n",
    "            # Either one or two arguments provided\n",
    "            print(f\"{greeting}, {name}!\")\n",
    "\n",
    "# Create an instance of the Greeting class\n",
    "greeter = Greeting()\n",
    "\n",
    "# Demonstrate method behavior\n",
    "greeter.greet()                  # No arguments\n",
    "greeter.greet(\"John\")            # One argument (name)\n",
    "greeter.greet(\"John\", \"Good morning\")  # Two arguments (name and greeting)\n"
   ]
  },
  {
   "cell_type": "markdown",
   "id": "18682ced-df92-4b7d-8fa2-8fa95c6f42fc",
   "metadata": {},
   "source": [
    "### Question 5:"
   ]
  },
  {
   "cell_type": "code",
   "execution_count": 21,
   "id": "237f32f9-15d9-4795-bec4-a91fb32b961e",
   "metadata": {},
   "outputs": [],
   "source": [
    "# Question 5:\n",
    "# Create a class CarRental to manage the rental of cars.\n",
    "#  The class should have private attributes for the car&#39;s name, price per day, and the number of\n",
    "# rental days.\n",
    "#  Create a method to calculate the total rental cost and a method to set the rental days.\n",
    "#  Use getter and setter methods for modifying and accessing the car&#39;s information.\n",
    "# Demonstrate encapsulation by creating an object of CarRental and calculating the total rental cost.\n",
    "# Expected Output:\n",
    "#  Car Name: Toyota Camry\n",
    "#  Price Per Day: $50\n",
    "#  Rental Days: 5\n",
    "#  Total Rental Cost: $250"
   ]
  },
  {
   "cell_type": "code",
   "execution_count": 23,
   "id": "1c1357c8-1bc8-4427-badf-3866b2867e2b",
   "metadata": {},
   "outputs": [
    {
     "name": "stdout",
     "output_type": "stream",
     "text": [
      "Car Name: Toyota Camry\n",
      "Price Per Day: $50\n",
      "Rental Days: 5\n",
      "Total Rental Cost: $250\n"
     ]
    }
   ],
   "source": [
    "class CarRental:\n",
    "    def __init__(self, car_name, price_per_day):\n",
    "        self.__car_name = car_name      # Private attribute for car's name\n",
    "        self.__price_per_day = price_per_day  # Private attribute for price per day\n",
    "        self.__rental_days = 0         # Private attribute for rental days (default to 0)\n",
    "\n",
    "    # Getter for car name\n",
    "    def get_car_name(self):\n",
    "        return self.__car_name\n",
    "\n",
    "    # Setter for car name\n",
    "    def set_car_name(self, car_name):\n",
    "        self.__car_name = car_name\n",
    "\n",
    "    # Getter for price per day\n",
    "    def get_price_per_day(self):\n",
    "        return self.__price_per_day\n",
    "\n",
    "    # Setter for price per day\n",
    "    def set_price_per_day(self, price_per_day):\n",
    "        self.__price_per_day = price_per_day\n",
    "\n",
    "    # Getter for rental days\n",
    "    def get_rental_days(self):\n",
    "        return self.__rental_days\n",
    "\n",
    "    # Setter for rental days\n",
    "    def set_rental_days(self, rental_days):\n",
    "        self.__rental_days = rental_days\n",
    "\n",
    "    # Method to calculate the total rental cost\n",
    "    def calculate_total_cost(self):\n",
    "        return self.__price_per_day * self.__rental_days\n",
    "\n",
    "# Demonstrating encapsulation\n",
    "# Create an object of CarRental\n",
    "rental = CarRental(\"Toyota Camry\", 50)\n",
    "\n",
    "# Set rental days\n",
    "rental.set_rental_days(5)\n",
    "\n",
    "# Print details\n",
    "print(f\"Car Name: {rental.get_car_name()}\")\n",
    "print(f\"Price Per Day: ${rental.get_price_per_day()}\")\n",
    "print(f\"Rental Days: {rental.get_rental_days()}\")\n",
    "print(f\"Total Rental Cost: ${rental.calculate_total_cost()}\")\n"
   ]
  },
  {
   "cell_type": "code",
   "execution_count": null,
   "id": "852e2726-150c-406d-ac67-bef66e4af8a8",
   "metadata": {},
   "outputs": [],
   "source": []
  }
 ],
 "metadata": {
  "kernelspec": {
   "display_name": "Python 3 (ipykernel)",
   "language": "python",
   "name": "python3"
  },
  "language_info": {
   "codemirror_mode": {
    "name": "ipython",
    "version": 3
   },
   "file_extension": ".py",
   "mimetype": "text/x-python",
   "name": "python",
   "nbconvert_exporter": "python",
   "pygments_lexer": "ipython3",
   "version": "3.12.7"
  }
 },
 "nbformat": 4,
 "nbformat_minor": 5
}
