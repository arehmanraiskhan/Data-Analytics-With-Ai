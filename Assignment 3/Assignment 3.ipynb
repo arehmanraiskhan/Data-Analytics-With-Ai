{
 "cells": [
  {
   "cell_type": "markdown",
   "id": "da5531fc-2eda-47a1-8b92-36a8c515b525",
   "metadata": {},
   "source": [
    "# Assignment 3\n"
   ]
  },
  {
   "cell_type": "markdown",
   "id": "97bae3db-fa3c-493b-9318-fda1003c6c07",
   "metadata": {},
   "source": [
    "### Question 1"
   ]
  },
  {
   "cell_type": "code",
   "execution_count": 1,
   "id": "a10e7ca1-13ea-4a6d-a108-926351636332",
   "metadata": {},
   "outputs": [
    {
     "name": "stdin",
     "output_type": "stream",
     "text": [
      "Enter your age:  18\n",
      "Enter your credit score:  700\n",
      "Enter your annual income:  30000\n"
     ]
    },
    {
     "name": "stdout",
     "output_type": "stream",
     "text": [
      "Eligible for loan\n"
     ]
    }
   ],
   "source": [
    "age = int(input(\"Enter your age: \"))\n",
    "credit_score = int(input(\"Enter your credit score: \"))\n",
    "annual_income = float(input(\"Enter your annual income: \"))\n",
    "\n",
    "if age >= 18:\n",
    "    if credit_score >= 650 and annual_income >= 30000:\n",
    "        print(\"Eligible for loan\")\n",
    "    elif credit_score >= 700 and annual_income >= 25000:\n",
    "        print(\"Eligible for loan\")\n",
    "    else:\n",
    "        print(\"Not eligible for a loan: Insufficient credit score or income\")\n",
    "else:\n",
    "    print(\"Not eligible for a loan: Age must be 18 or older\")"
   ]
  },
  {
   "cell_type": "markdown",
   "id": "ec35479c-63b0-4fa0-a53e-c6bae7db441a",
   "metadata": {},
   "source": [
    "### Question 2\n"
   ]
  },
  {
   "cell_type": "code",
   "execution_count": 3,
   "id": "5afeae91-3fe6-4f82-8a13-e75618d1f7a7",
   "metadata": {},
   "outputs": [
    {
     "name": "stdin",
     "output_type": "stream",
     "text": [
      "Enter your age:  18\n",
      "Enter your years of experience:  7\n"
     ]
    },
    {
     "name": "stdout",
     "output_type": "stream",
     "text": [
      "You have moderate experience.\n"
     ]
    }
   ],
   "source": [
    "age = int(input(\"Enter your age: \"))\n",
    "\n",
    "if age < 18:\n",
    "    print(\"You are underage.\")\n",
    "else:\n",
    "    experience = int(input(\"Enter your years of experience: \"))\n",
    "        \n",
    "    if experience >= 10:\n",
    "        print(\"You have a lot of experience.\")\n",
    "    elif 5 <= experience <= 9:\n",
    "        print(\"You have moderate experience.\")\n",
    "    elif 2 <= experience <= 4:\n",
    "        print(\"You are relatively new.\")\n",
    "    else:\n",
    "        print(\"You are just starting out.\")"
   ]
  },
  {
   "cell_type": "markdown",
   "id": "ce713f7b-19f3-4e1f-ad93-08f0bb541099",
   "metadata": {},
   "source": [
    "### Question 3"
   ]
  },
  {
   "cell_type": "code",
   "execution_count": 52,
   "id": "d849376e-8378-4409-a11c-2dbfbcf8d8ae",
   "metadata": {},
   "outputs": [
    {
     "name": "stdout",
     "output_type": "stream",
     "text": [
      "Integer 28\n",
      "Float 24\n",
      "String 59\n",
      "List 88\n",
      "Tuple 64\n",
      "Data Type with Least Memory Size Float 24\n"
     ]
    }
   ],
   "source": [
    "import sys\n",
    "memory_size=[]\n",
    "a=3\n",
    "b=3.99 \n",
    "s1=\"Python programming\" \n",
    "l1=[1,2,3]\n",
    "t1=(1,2,3)\n",
    "print(\"Integer\",sys.getsizeof(a))\n",
    "print(\"Float\",sys.getsizeof(b))\n",
    "print(\"String\",sys.getsizeof(s1))\n",
    "print(\"List\",sys.getsizeof(l1))\n",
    "print(\"Tuple\",sys.getsizeof(t1))\n",
    "\n",
    "#Appending in the list\n",
    "memory_size.append(sys.getsizeof(a))\n",
    "memory_size.append(sys.getsizeof(b))\n",
    "memory_size.append(sys.getsizeof(s1))\n",
    "memory_size.append(sys.getsizeof(l1))\n",
    "memory_size.append(sys.getsizeof(t1))\n",
    "#checking for Element least memory size\n",
    "memory_size.sort()\n",
    "least_memory=memory_size[0]\n",
    "\n",
    "print(\"Data Type with Least Memory Size Float\",least_memory)"
   ]
  },
  {
   "cell_type": "markdown",
   "id": "20d0b8f0-cd64-4b0c-a539-e33a0136978b",
   "metadata": {},
   "source": [
    "# Question 4"
   ]
  },
  {
   "cell_type": "code",
   "execution_count": 9,
   "id": "fd01fdf8-0dd9-4c56-b643-a015b2633f33",
   "metadata": {},
   "outputs": [
    {
     "name": "stdin",
     "output_type": "stream",
     "text": [
      "Enter an email address:  arehmanraiskhan@gmail.com\n"
     ]
    },
    {
     "name": "stdout",
     "output_type": "stream",
     "text": [
      "Email format is valid.\n"
     ]
    }
   ],
   "source": [
    "email = input(\"Enter an email address: \")\n",
    "if \"@\" in email and \".\" in email:\n",
    "    print(\"Email format is valid.\")\n",
    "else:\n",
    "    print(\"Invalid email format.\")"
   ]
  },
  {
   "cell_type": "markdown",
   "id": "d7dc5b55-3683-458f-b42b-29cfc5eb533c",
   "metadata": {},
   "source": [
    "# Question 5"
   ]
  },
  {
   "cell_type": "code",
   "execution_count": 11,
   "id": "a04819d3-0eb2-4e1b-aaea-7afccd256046",
   "metadata": {},
   "outputs": [
    {
     "name": "stdout",
     "output_type": "stream",
     "text": [
      "Tuple elements: (11, 22.333, 'apple', [1, 2, 3], ('a', 'b'))\n",
      "Data types of tuple elements: ['int', 'float', 'str', 'list', 'tuple']\n"
     ]
    }
   ],
   "source": [
    "x = (11, 22.333, 'apple', [1, 2, 3], ('a', 'b'))\n",
    "\n",
    "# List to store data types\n",
    "data_types = []\n",
    "\n",
    "for element in x:\n",
    "    data_types.append(type(element).__name__)\n",
    "\n",
    "# Output the data types\n",
    "print(\"Tuple elements:\", x)\n",
    "print(\"Data types of tuple elements:\", data_types)"
   ]
  },
  {
   "cell_type": "markdown",
   "id": "995ef40d-2b04-4d0d-be90-aa153db964c3",
   "metadata": {},
   "source": [
    "# Question 7"
   ]
  },
  {
   "cell_type": "code",
   "execution_count": null,
   "id": "af4f3f84-dfcc-4e8f-9887-3406dd7b15f2",
   "metadata": {},
   "outputs": [],
   "source": [
    "person1 = ['John', 'Mary', 'Springfield', '123']\n",
    "person2 = ['John', 'Mary', 'Springfield', '123']  # Same family as person1\n",
    "person3 = ['David', 'Linda', 'Shelbyville', '456']  # Different family, cousin of person1\n",
    "if p1 is p2:\n",
    "    print(\"Siblings\")  # Identity operator checks if they are the same reference\n",
    "elif p1[:2] == p2[:2]:  # Check if they share parents but not full family data\n",
    "    print(\"Cousin\")\n",
    "else:\n",
    "    print(\"No relation\")"
   ]
  },
  {
   "cell_type": "markdown",
   "id": "4e92f06f-fd3c-4c8d-9962-3a5a48f6276e",
   "metadata": {},
   "source": [
    "## Question 8 "
   ]
  },
  {
   "cell_type": "code",
   "execution_count": 25,
   "id": "a4fbf5ff-db33-4603-9b03-f879982035dd",
   "metadata": {},
   "outputs": [
    {
     "name": "stdin",
     "output_type": "stream",
     "text": [
      "Enter the book's title:  The book\n",
      "Enter the book's author:  MARK\n",
      "Enter the year of publication:  2006\n",
      "Enter the price of the book:  999.90\n"
     ]
    },
    {
     "name": "stdout",
     "output_type": "stream",
     "text": [
      "{'The book'}\n",
      "{'MARK'}\n",
      "{2006}\n",
      "{999.9}\n"
     ]
    }
   ],
   "source": [
    "title = input(\"Enter the book's title: \")\n",
    "author = input(\"Enter the book's author: \")\n",
    "year = int(input(\"Enter the year of publication: \"))\n",
    "price = float(input(\"Enter the price of the book: \"))\n",
    "\n",
    "book = (\"The book\", \"MARK\", 2006, 999.90)\n",
    "\n",
    "print({book[0]})\n",
    "print({book[1]})\n",
    "print({book[2]})\n",
    "print({book[3]})"
   ]
  },
  {
   "cell_type": "markdown",
   "id": "ed0e283f-52b2-4405-a891-eb63afbc0527",
   "metadata": {},
   "source": [
    "## Question 9"
   ]
  },
  {
   "cell_type": "code",
   "execution_count": 30,
   "id": "5f3d5397-ad81-4142-8474-7f6a029ef53f",
   "metadata": {},
   "outputs": [
    {
     "name": "stdin",
     "output_type": "stream",
     "text": [
      "Enter the subject you want to check:  Chemistry\n"
     ]
    },
    {
     "name": "stdout",
     "output_type": "stream",
     "text": [
      "The subject is available.\n"
     ]
    }
   ],
   "source": [
    "offered_subjects = [\"Mathematics\", \"Physics\", \"Chemistry\", \"Biology\", \"Computer Science\", \"History\", \"Geography\"]\n",
    "# Ask the user to input a subject\n",
    "user_subject = input(\"Enter the subject you want to check: \")\n",
    "\n",
    "# Check if the subject is available\n",
    "if user_subject in offered_subjects:\n",
    "    print(\"The subject is available.\")\n",
    "else:\n",
    "    print(\"The subject is not available.\")"
   ]
  },
  {
   "cell_type": "markdown",
   "id": "ab3dbd10-01d3-496c-803c-d786db3d7810",
   "metadata": {},
   "source": [
    "## Question 10"
   ]
  },
  {
   "cell_type": "code",
   "execution_count": 43,
   "id": "2df88128-20d5-475b-a79f-3dd74cc08c30",
   "metadata": {},
   "outputs": [
    {
     "name": "stdout",
     "output_type": "stream",
     "text": [
      "(10, 20, 30, 10, 40, 50, 20, 10, 60)\n"
     ]
    },
    {
     "name": "stdin",
     "output_type": "stream",
     "text": [
      "Enter a number to find its first occurrence:  20\n"
     ]
    },
    {
     "name": "stdout",
     "output_type": "stream",
     "text": [
      "The first occurrence of 20 is at index 1.\n"
     ]
    },
    {
     "name": "stdin",
     "output_type": "stream",
     "text": [
      "Enter another number to count its occurrences:  90\n"
     ]
    },
    {
     "name": "stdout",
     "output_type": "stream",
     "text": [
      "The number 90 does not appear in the tuple.\n"
     ]
    }
   ],
   "source": [
    "nums = (10, 20, 30, 10, 40, 50, 20, 10, 60)\n",
    "# Display the tuple to the user\n",
    "print(nums)\n",
    "# Prompt the user to input a number and find its first occurrence\n",
    "num1 = int(input(\"Enter a number to find its first occurrence: \"))\n",
    "if num1 in nums:\n",
    "    index = nums.index(num1)\n",
    "    print(f\"The first occurrence of {num1} is at index {index}.\")\n",
    "else:\n",
    "    print(f\"The number {num1} is not in the tuple.\")\n",
    "\n",
    "# Ask the user for another number and count how many times it appears\n",
    "num2 = int(input(\"Enter another number to count its occurrences: \"))\n",
    "count = nums.count(num2)\n",
    "if count > 0:\n",
    "    print(f\"The number {num2} appears {count} times in the tuple.\")\n",
    "else:\n",
    "    print(f\"The number {num2} does not appear in the tuple.\")"
   ]
  },
  {
   "cell_type": "markdown",
   "id": "1f9f48c8-6127-4bda-a5f9-5700068c830e",
   "metadata": {},
   "source": [
    "## Question 11"
   ]
  },
  {
   "cell_type": "code",
   "execution_count": 50,
   "id": "42b92843-fd09-4119-8e17-2092e111815e",
   "metadata": {},
   "outputs": [
    {
     "name": "stdin",
     "output_type": "stream",
     "text": [
      "Enter the current temperature in Celsius:  11\n"
     ]
    },
    {
     "name": "stdout",
     "output_type": "stream",
     "text": [
      "The temperature is normal.\n"
     ]
    }
   ],
   "source": [
    "# Ask the user to input the current temperature in Celsius\n",
    "temperature = float(input(\"Enter the current temperature in Celsius: \"))\n",
    "\n",
    "# Define predefined temperature thresholds\n",
    "freezing_temp = -5\n",
    "normal_temp = 25\n",
    "hot_temp = 40\n",
    "\n",
    "# Determine the temperature category\n",
    "if temperature <= freezing_temp:\n",
    "    print(\"It's freezing.\")\n",
    "elif freezing_temp < temperature <= normal_temp:\n",
    "    print(\"The temperature is normal.\")\n",
    "elif normal_temp < temperature <= hot_temp:\n",
    "    print(\"It's warm.\")\n",
    "else:\n",
    "    print(\"It's hot.\")"
   ]
  },
  {
   "cell_type": "code",
   "execution_count": null,
   "id": "3a675160-fd7a-4137-a1d6-a62bbc49725e",
   "metadata": {},
   "outputs": [],
   "source": []
  }
 ],
 "metadata": {
  "kernelspec": {
   "display_name": "Python 3 (ipykernel)",
   "language": "python",
   "name": "python3"
  },
  "language_info": {
   "codemirror_mode": {
    "name": "ipython",
    "version": 3
   },
   "file_extension": ".py",
   "mimetype": "text/x-python",
   "name": "python",
   "nbconvert_exporter": "python",
   "pygments_lexer": "ipython3",
   "version": "3.12.7"
  }
 },
 "nbformat": 4,
 "nbformat_minor": 5
}
